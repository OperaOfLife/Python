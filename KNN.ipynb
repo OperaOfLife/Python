{
 "cells": [
  {
   "cell_type": "markdown",
   "id": "256b6bbf",
   "metadata": {},
   "source": [
    "# EX 1"
   ]
  },
  {
   "cell_type": "code",
   "execution_count": 1,
   "id": "a90211db",
   "metadata": {},
   "outputs": [
    {
     "data": {
      "image/png": "[encoded data removed]",
      "text/plain": [
       "<Figure size 720x720 with 1 Axes>"
      ]
     },
     "metadata": {
      "needs_background": "light"
     },
     "output_type": "display_data"
    },
    {
     "name": "stdout",
     "output_type": "stream",
     "text": [
      "Accuracy: 0.5\n"
     ]
    },
    {
     "data": {
      "text/plain": [
       "array([1], dtype=int64)"
      ]
     },
     "execution_count": 1,
     "metadata": {},
     "output_type": "execute_result"
    }
   ],
   "source": [
    "import numpy as np\n",
    "import pandas as pd\n",
    "import sklearn\n",
    "import matplotlib.pyplot as plt\n",
    "from sklearn.model_selection import train_test_split\n",
    "from sklearn.neighbors import KNeighborsClassifier\n",
    "from sklearn.metrics import accuracy_score\n",
    "\n",
    "df = pd.read_csv('K-NN_Weight.csv')\n",
    "df.head()\n",
    "\n",
    "# we need to categorize the data by their Weight\n",
    "# we will arbitrarily label every data with weight less than 50 as 0, \n",
    "# any data with weight less than 60 as 1\n",
    "# any data with weight larger than 60 as 2\n",
    "\n",
    "# make a copy of the dataframe\n",
    "df_cat = df\n",
    "# categorize by their weight\n",
    "df_cat.loc[df['Weight']< 50, 'Weight'] = 0\n",
    "df_cat.loc[(df['Weight'] >= 50) & (df['Weight'] < 65), 'Weight'] = 1\n",
    "df_cat.loc[df['Weight'] >= 65, 'Weight'] = 2\n",
    "df_cat\n",
    "\n",
    "fig, ax = plt.subplots(figsize = (10,10))\n",
    "df_zero = df_cat.loc[df_cat['Weight'] == 0]\n",
    "df_one = df_cat.loc[df_cat['Weight'] == 1]\n",
    "df_two = df_cat.loc[df_cat['Weight'] == 2]\n",
    "ax.scatter(df_zero['Age'], df_zero['Height'])\n",
    "ax.scatter(df_one['Age'], df_one['Height'])\n",
    "ax.scatter(df_two['Age'], df_two['Height'])\n",
    "#plt.ylim(4, 7)\n",
    "plt.show()\n",
    "\n",
    "\n",
    "\n",
    "X = df_cat.iloc[:, 0:2]\n",
    "y = df_cat['Weight']\n",
    "\n",
    "X_train, X_test, y_train, y_test = train_test_split(X, y, random_state = 42)\n",
    "\n",
    "\n",
    "# we choose k = 3 here, due to the small number of data we have\n",
    "# there isn't a k suitable for all. Generally we want to choose a small odd number.\n",
    "# large k is generally more costy\n",
    "knn_model = KNeighborsClassifier(n_neighbors = 3) \n",
    "\n",
    "knn_model.fit(X_train, y_train) # train our model to the data set we have. The training set is all the data points\n",
    "y_pred = knn_model.predict(X_test)\n",
    "\n",
    "print(\"Accuracy:\",accuracy_score(y_test, y_pred))\n",
    "knn_model.predict([(5.5, 30)])"
   ]
  },
  {
   "cell_type": "markdown",
   "id": "d26bfe91",
   "metadata": {},
   "source": [
    "# EX 2"
   ]
  },
  {
   "cell_type": "code",
   "execution_count": 1,
   "id": "9db2d844",
   "metadata": {},
   "outputs": [
    {
     "name": "stdout",
     "output_type": "stream",
     "text": [
      "['setosa' 'versicolor' 'virginica']\n",
      "0.8157894736842105\n",
      "1\n",
      "0.7105263157894737\n",
      "3\n",
      "0.7631578947368421\n",
      "5\n",
      "0.8157894736842105\n",
      "7\n",
      "0.7631578947368421\n",
      "9\n",
      "0.8157894736842105\n",
      "11\n",
      "0.8157894736842105\n",
      "13\n",
      "0.7631578947368421\n",
      "15\n",
      "0.8157894736842105\n",
      "17\n",
      "0.7368421052631579\n",
      "19\n",
      "0.7894736842105263\n",
      "0.7105263157894737\n"
     ]
    },
    {
     "data": {
      "text/plain": [
       "0.7105263157894737"
      ]
     },
     "execution_count": 1,
     "metadata": {},
     "output_type": "execute_result"
    }
   ],
   "source": [
    "# import everything first\n",
    "import numpy as np\n",
    "import pandas as pd\n",
    "import matplotlib.pyplot as plt\n",
    "import sklearn\n",
    "from sklearn.neighbors import KNeighborsClassifier\n",
    "from sklearn.model_selection import train_test_split\n",
    "\n",
    "\n",
    "# We are going to use the Iris data sets from sklearn as our example\n",
    "from sklearn import datasets\n",
    "iris = datasets.load_iris()\n",
    "\n",
    "# build a dataframe with the data\n",
    "# first four columns are the features, the last column is the target that we want to predict\n",
    "df = pd.DataFrame(iris.data, columns = ['sepal length (cm)',\n",
    "  'sepal width (cm)',\n",
    "  'petal length (cm)',\n",
    "  'petal width (cm)'])\n",
    "df['class'] = iris.target\n",
    "df.head()\n",
    "\n",
    "print(iris.target_names) # these are the class names corresponding to their numeric label [0, 1, 2 ...]\n",
    "\n",
    "\n",
    "# we let k = 5 first, which means choosing 5 nearest neighbors.\n",
    "knn = KNeighborsClassifier(n_neighbors = 5) \n",
    "\n",
    "X_train, X_test, y_train, y_test = train_test_split(df.iloc[:,0:2], df['class'], random_state = 42)\n",
    "X_train.head()\n",
    "\n",
    "knn.fit(X_train, y_train)\n",
    "\n",
    "y_pred = knn.predict(X_test)\n",
    "\n",
    "# we should test how accurate our model is \n",
    "\n",
    "from sklearn.metrics import accuracy_score\n",
    "print(accuracy_score(y_test, y_pred))\n",
    "\n",
    "#Closer to 1 accuracy score means better prediction. Our model has an accuracy score of 0.815 approximately.\n",
    "\n",
    "#Explore more about model\n",
    "#We can try use different k values for our model. Check its accuracy with these k values.\n",
    "\n",
    "#We will try k = 1 to k =20, as smaller k means noises have large influence and larger k means comuptation becomes expensive.\n",
    "\n",
    "k_array = np.arange(1, 21, 2)\n",
    "\n",
    "k_array\n",
    "\n",
    "# we can change k value to 1 - 20, and check the accuracy score\n",
    "# Then we can choose the optimized k value\n",
    "\n",
    "for k in k_array:\n",
    "    knn_ex = KNeighborsClassifier(n_neighbors = k)\n",
    "    knn_ex.fit(X_train, y_train)\n",
    "    ac = accuracy_score(y_test, knn_ex.predict(X_test))\n",
    "    print(k)\n",
    "    print(ac)\n",
    "    \n",
    "knn_1 = KNeighborsClassifier(n_neighbors = 1)\n",
    "knn_1.fit(X_train, y_train)\n",
    "y_pred1 = knn_1.predict(X_test)\n",
    "print(accuracy_score(y_test, y_pred1))\n",
    "\n",
    "from sklearn.metrics import confusion_matrix\n",
    "confusion_matrix(y_test, y_pred)\n",
    "\n",
    "#This Confusion Matrix shows that we have 15 predicted class 0 are correct. \n",
    "#7 predicted class 1 are correct; 4 predicted class 1 which are actually class 2. \n",
    "#9 predicted class 2 are correct; 3 predicted class 2 which are actually class 1 .\n",
    "\n",
    "# The confusion matrix when k = 1\n",
    "confusion_matrix(y_test, y_pred1)\n",
    "\n",
    "# The F1 score can be interpreted as a weighted average of the precision and recall, \n",
    "# where an F1 score reaches its best value at 1 and worst score at 0.\n",
    "from sklearn.metrics import f1_score\n",
    "f1_score(y_test, y_pred1, average = 'micro')\n",
    "\n",
    "#Conclusion\n",
    "#Our accuracy score got from finding the suitable k is between 0.7 to 0.8"
   ]
  },
  {
   "cell_type": "code",
   "execution_count": 2,
   "id": "427f8453",
   "metadata": {},
   "outputs": [
    {
     "data": {
      "text/plain": [
       "array([[15,  0,  0],\n",
       "       [ 0,  7,  4],\n",
       "       [ 0,  3,  9]], dtype=int64)"
      ]
     },
     "execution_count": 2,
     "metadata": {},
     "output_type": "execute_result"
    }
   ],
   "source": [
    "from sklearn.metrics import confusion_matrix\n",
    "confusion_matrix(y_test, y_pred)\n",
    "\n",
    "#This Confusion Matrix shows that we have 15 predicted class 0 are correct. \n",
    "#7 predicted class 1 are correct; 4 predicted class 1 which are actually class 2. \n",
    "#9 predicted class 2 are correct; 3 predicted class 2 which are actually class 1 ."
   ]
  },
  {
   "cell_type": "code",
   "execution_count": 3,
   "id": "abc8f77c",
   "metadata": {},
   "outputs": [
    {
     "data": {
      "text/plain": [
       "array([[15,  0,  0],\n",
       "       [ 0,  6,  5],\n",
       "       [ 0,  6,  6]], dtype=int64)"
      ]
     },
     "execution_count": 3,
     "metadata": {},
     "output_type": "execute_result"
    }
   ],
   "source": [
    "confusion_matrix(y_test, y_pred1)"
   ]
  },
  {
   "cell_type": "markdown",
   "id": "1446eb3f",
   "metadata": {},
   "source": [
    "# CA"
   ]
  },
  {
   "cell_type": "code",
   "execution_count": 4,
   "id": "cc79e7c8",
   "metadata": {},
   "outputs": [
    {
     "name": "stdout",
     "output_type": "stream",
     "text": [
      "The shape of indepedent variables :  (303, 7)\n",
      "The shape of dependent variable:  (303,)\n",
      "\n",
      "\n",
      "Maximum accuracy:- 0.8947368421052632 at K = 4\n",
      "Minimum error:- 0.10526315789473684 at K = 4\n",
      "\n",
      "\n",
      "K-Value based on Sqroot of sample size of 303\n",
      "Accuracy of model at K =  17  is 0.868421052631579\n",
      "\n",
      "\n",
      "K-Value of  4\n",
      "Accuracy of model at K =  4  is 0.8421052631578947\n",
      "\n",
      "\n",
      "K-Value of  5\n",
      "Accuracy of model at K =  5  is 0.8947368421052632\n",
      "\n",
      "\n",
      "Accuracy of Train Model is:  0.8634361233480177\n",
      "\n",
      "\n",
      "Time Taken for training the dataset\n",
      "Elapsed Time : 0.0 seconds\n",
      "\n",
      "\n",
      "Time Taken for fitting and predicting the model\n",
      "Elapsed Time : 0.003999948501586914 seconds\n",
      "\n",
      "\n",
      "K-Value of  6\n",
      "Accuracy of model at K =  6  is 0.8552631578947368\n",
      "\n",
      "\n",
      "Changing number of features\n",
      "With all features we can get an accuracy of 0.86 - k @ 4) However,Training data is 0.877(overfitting)\n",
      "with 9 features we can get an accuracy of (0.78 - k @ 2) * Corr Threshold - 0.2\n",
      "With 7 features we can get an accuracy of (0.857 - k @ 12) * Corr Threshold - 0.3\n",
      "With 5 features we can get an accuracy of 0.57 - k @ 7 * Corr Threshold - 0.35\n",
      "With 4 features we can get an accuracy of 0.80 - k @ 9) * Corr Threshold - 0.4\n",
      "\n",
      "\n",
      "Changing the Test_size on TTS(train_test_split), with 7 features\n",
      "test_size = 0.3, test accuracy = 86.8%, training accuracy of = 82.1%\n",
      "test_size = 0.25, test accuracy = 89.5%, training accuracy of = 86.3%\n",
      "test_size = 0.2, test accuracy = 90.2%, training accuracy of = 80.99%\n"
     ]
    },
    {
     "data": {
      "image/png": "[encoded data removed]",
      "text/plain": [
       "<Figure size 720x432 with 1 Axes>"
      ]
     },
     "metadata": {
      "needs_background": "light"
     },
     "output_type": "display_data"
    },
    {
     "data": {
      "image/png": "[encoded data removed]",
      "text/plain": [
       "<Figure size 720x432 with 1 Axes>"
      ]
     },
     "metadata": {
      "needs_background": "light"
     },
     "output_type": "display_data"
    }
   ],
   "source": [
    "\n",
    "import pandas as pd\n",
    "import seaborn as sns\n",
    "import numpy as np\n",
    "import matplotlib.pyplot as plt\n",
    "from sklearn.neighbors import KNeighborsClassifier\n",
    "from sklearn.model_selection import train_test_split\n",
    "from sklearn.preprocessing import StandardScaler\n",
    "import math\n",
    "from sklearn import metrics\n",
    "import time\n",
    "\n",
    "#Importing Data\n",
    "data = pd.read_csv(\"HeartAttack.csv\")#Extracting data from dataset.\n",
    "X= data[['Chest_Pain', 'Max_Heart_Rate', 'EI_Angina','Previous_Peak', 'Slope', 'Major_Vessels', 'Thalium_Stress_Test']].values\n",
    "y= data['Output'].values\n",
    "\n",
    "print(\"The shape of indepedent variables : \",X.shape)\n",
    "print(\"The shape of dependent variable: \",y.shape)\n",
    "print('\\n')\n",
    "\n",
    "start = time.time()\n",
    "\n",
    "#Training the data with random state 42\n",
    "X_train,X_test,y_train,y_test = train_test_split(X,y, random_state = 42)\n",
    "\n",
    "end = time.time()\n",
    "trainElapsed=end-start\n",
    "\n",
    "#Normalize the data with standard scalar\n",
    "\n",
    "scaler = StandardScaler()\n",
    "X_train = scaler.fit_transform(X_train)\n",
    "X_test = scaler.transform(X_test)\n",
    "\n",
    "\n",
    "#Max accuracy == K values\n",
    "acc = []\n",
    "for i in range(1,40):\n",
    "    neigh = KNeighborsClassifier(n_neighbors = i).fit(X_train,y_train)\n",
    "    yhat = neigh.predict(X_test)\n",
    "    acc.append(metrics.accuracy_score(y_test, yhat))\n",
    "    \n",
    "plt.figure(figsize=(10,6))\n",
    "plt.plot(range(1,40),acc,color = 'blue',linestyle='dashed', \n",
    "         marker='o',markerfacecolor='red', markersize=10)\n",
    "plt.title('accuracy vs. K Value')\n",
    "plt.xlabel('K')\n",
    "plt.ylabel('Accuracy')\n",
    "print(\"Maximum accuracy:-\",max(acc),\"at K =\",acc.index(max(acc)))\n",
    "\n",
    "#looking for the lowest error rate \n",
    "\n",
    "error_rate = []\n",
    "for i in range(1,40):\n",
    " knn = KNeighborsClassifier(n_neighbors=i)\n",
    " knn.fit(X_train,y_train)\n",
    " pred_i = knn.predict(X_test)\n",
    " error_rate.append(np.mean(pred_i != y_test))\n",
    "\n",
    "plt.figure(figsize=(10,6))\n",
    "plt.plot(range(1,40),error_rate,color='blue', linestyle='dashed', \n",
    "         marker='o',markerfacecolor='red', markersize=10)\n",
    "plt.title('Error Rate vs. K Value')\n",
    "plt.xlabel('K')\n",
    "plt.ylabel('Error Rate')\n",
    "print(\"Minimum error:-\",min(error_rate),\"at K =\",error_rate.index(min(error_rate)))\n",
    "\n",
    "print(\"\\n\")\n",
    "\n",
    "\n",
    "#K Value of sqroot of sample size (303)\n",
    "\n",
    "k = round(math.sqrt(303))\n",
    "knn = KNeighborsClassifier(n_neighbors = k)\n",
    "knn.fit(X_train,y_train)\n",
    "y_pred = knn.predict(X_test)\n",
    "print(\"K-Value based on Sqroot of sample size of 303\")\n",
    "print(\"Accuracy of model at K = \",k,\" is\",metrics.accuracy_score(y_test, y_pred))\n",
    "print('\\n')\n",
    "\n",
    "#K-value of 4\n",
    "k = 4\n",
    "knn = KNeighborsClassifier(n_neighbors = k)\n",
    "knn.fit(X_train,y_train)\n",
    "y_pred = knn.predict(X_test)\n",
    "print(\"K-Value of \", k)\n",
    "print(\"Accuracy of model at K = \",k,\" is\",metrics.accuracy_score(y_test, y_pred))\n",
    "print('\\n')\n",
    "\n",
    "start = time.time()\n",
    "#K-value of 5\n",
    "k = 5\n",
    "knn = KNeighborsClassifier(n_neighbors = k)\n",
    "knn.fit(X_train,y_train)\n",
    "y_pred = knn.predict(X_test)\n",
    "print(\"K-Value of \",k)\n",
    "print(\"Accuracy of model at K = \",k,\" is\",metrics.accuracy_score(y_test, y_pred))\n",
    "print('\\n')\n",
    "\n",
    "end = time.time()\n",
    "fitElapsed=end-start\n",
    "#evaluate on train dataset\n",
    "\n",
    "y_tred = knn.predict(X_train)\n",
    "print(\"Accuracy of Train Model is: \", metrics.accuracy_score(y_train,y_tred))\n",
    "print('\\n')\n",
    "\n",
    "print(\"Time Taken for training the dataset\")\n",
    "print('Elapsed Time : {0} seconds'.format(trainElapsed))\n",
    "print('\\n')\n",
    "print(\"Time Taken for fitting and predicting the model\")\n",
    "print('Elapsed Time : {0} seconds'.format(fitElapsed))\n",
    "print('\\n')\n",
    "\n",
    "#K-value of 6\n",
    "k = 6\n",
    "knn = KNeighborsClassifier(n_neighbors = k)\n",
    "knn.fit(X_train,y_train)\n",
    "y_pred = knn.predict(X_test)\n",
    "best = metrics.accuracy_score(y_test, y_pred)\n",
    "print(\"K-Value of \",k)\n",
    "print(\"Accuracy of model at K = \",k,\" is\",best)\n",
    "\n",
    "print('\\n')\n",
    "\n",
    "print(\"Changing number of features\")\n",
    "print(\"With all features we can get an accuracy of 0.86 - k @ 4) However,Training data is 0.877(overfitting)\")\n",
    "print(\"with 9 features we can get an accuracy of (0.78 - k @ 2) * Corr Threshold - 0.2\")\n",
    "print(\"With 7 features we can get an accuracy of (0.857 - k @ 12) * Corr Threshold - 0.3\")\n",
    "print(\"With 5 features we can get an accuracy of 0.57 - k @ 7 * Corr Threshold - 0.35\")\n",
    "print(\"With 4 features we can get an accuracy of 0.80 - k @ 9) * Corr Threshold - 0.4\")\n",
    "print(\"\\n\")\n",
    "print(\"Changing the Test_size on TTS(train_test_split), with 7 features\")\n",
    "print(\"test_size = 0.3, test accuracy = 86.8%, training accuracy of = 82.1%\")\n",
    "print(\"test_size = 0.25, test accuracy = 89.5%, training accuracy of = 86.3%\")\n",
    "print(\"test_size = 0.2, test accuracy = 90.2%, training accuracy of = 80.99%\")\n",
    "\n",
    "#Test size of 0.25 gives the less differences between test and training accuracy . so its much more balanced\n",
    "#compared to the others. "
   ]
  },
  {
   "cell_type": "code",
   "execution_count": null,
   "id": "9769162c",
   "metadata": {},
   "outputs": [],
   "source": []
  }
 ],
 "metadata": {
  "kernelspec": {
   "display_name": "Python 3",
   "language": "python",
   "name": "python3"
  },
  "language_info": {
   "codemirror_mode": {
    "name": "ipython",
    "version": 3
   },
   "file_extension": ".py",
   "mimetype": "text/x-python",
   "name": "python",
   "nbconvert_exporter": "python",
   "pygments_lexer": "ipython3",
   "version": "3.8.10"
  }
 },
 "nbformat": 4,
 "nbformat_minor": 5
}
