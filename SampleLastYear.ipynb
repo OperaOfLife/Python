{
 "cells": [
  {
   "cell_type": "markdown",
   "id": "b9afc754",
   "metadata": {},
   "source": [
    "# Q1a"
   ]
  },
  {
   "cell_type": "code",
   "execution_count": 8,
   "id": "cc433a72",
   "metadata": {},
   "outputs": [
    {
     "data": {
      "text/html": [
       "<div>\n",
       "<style scoped>\n",
       "    .dataframe tbody tr th:only-of-type {\n",
       "        vertical-align: middle;\n",
       "    }\n",
       "\n",
       "    .dataframe tbody tr th {\n",
       "        vertical-align: top;\n",
       "    }\n",
       "\n",
       "    .dataframe thead th {\n",
       "        text-align: right;\n",
       "    }\n",
       "</style>\n",
       "<table border=\"1\" class=\"dataframe\">\n",
       "  <thead>\n",
       "    <tr style=\"text-align: right;\">\n",
       "      <th></th>\n",
       "      <th>age</th>\n",
       "      <th>credit</th>\n",
       "      <th>default</th>\n",
       "    </tr>\n",
       "  </thead>\n",
       "  <tbody>\n",
       "    <tr>\n",
       "      <th>0</th>\n",
       "      <td>36</td>\n",
       "      <td>2.777700</td>\n",
       "      <td>N</td>\n",
       "    </tr>\n",
       "    <tr>\n",
       "      <th>1</th>\n",
       "      <td>27</td>\n",
       "      <td>0.182512</td>\n",
       "      <td>N</td>\n",
       "    </tr>\n",
       "    <tr>\n",
       "      <th>2</th>\n",
       "      <td>25</td>\n",
       "      <td>0.252356</td>\n",
       "      <td>N</td>\n",
       "    </tr>\n",
       "    <tr>\n",
       "      <th>3</th>\n",
       "      <td>52</td>\n",
       "      <td>3.929600</td>\n",
       "      <td>N</td>\n",
       "    </tr>\n",
       "    <tr>\n",
       "      <th>4</th>\n",
       "      <td>37</td>\n",
       "      <td>1.715901</td>\n",
       "      <td>N</td>\n",
       "    </tr>\n",
       "  </tbody>\n",
       "</table>\n",
       "</div>"
      ],
      "text/plain": [
       "   age    credit default\n",
       "0   36  2.777700       N\n",
       "1   27  0.182512       N\n",
       "2   25  0.252356       N\n",
       "3   52  3.929600       N\n",
       "4   37  1.715901       N"
      ]
     },
     "execution_count": 8,
     "metadata": {},
     "output_type": "execute_result"
    }
   ],
   "source": [
    "import pandas as pd\n",
    "import numpy as np\n",
    "import sklearn\n",
    "import matplotlib.pyplot as plt\n",
    "import seaborn as sb\n",
    "from sklearn import datasets\n",
    "from sklearn.model_selection import train_test_split\n",
    "from sklearn.linear_model import LogisticRegression\n",
    "from sklearn.metrics import accuracy_score\n",
    "from sklearn.metrics import confusion_matrix\n",
    "\n",
    "# read in data from the file\n",
    "df = pd.read_csv('LoanProfile.csv').dropna()\n",
    "df.head() # show the first five values\n"
   ]
  },
  {
   "cell_type": "code",
   "execution_count": 4,
   "id": "0f54048d",
   "metadata": {},
   "outputs": [
    {
     "data": {
      "image/png": "[encoded data removed]",
      "text/plain": [
       "<Figure size 403.5x360 with 6 Axes>"
      ]
     },
     "metadata": {
      "needs_background": "light"
     },
     "output_type": "display_data"
    }
   ],
   "source": [
    "X = df.iloc[:,:-1]\n",
    "y = df['default']\n",
    "sb.pairplot (df, hue='default')\n",
    "plt.show()\n"
   ]
  },
  {
   "cell_type": "code",
   "execution_count": 13,
   "id": "859f05b7",
   "metadata": {},
   "outputs": [],
   "source": [
    "X_train, X_test, y_train, y_test = train_test_split(X, y, random_state = 42)\n",
    "logReg = LogisticRegression(solver = 'lbfgs',dual=False, \n",
    "                            multi_class = 'multinomial', random_state = 42,max_iter=5000)\n",
    "logReg.fit(X_train, y_train)\n",
    "y_pred = logReg.predict(X_test)\n"
   ]
  },
  {
   "cell_type": "code",
   "execution_count": 14,
   "id": "78192a65",
   "metadata": {},
   "outputs": [
    {
     "data": {
      "text/html": [
       "<div>\n",
       "<style scoped>\n",
       "    .dataframe tbody tr th:only-of-type {\n",
       "        vertical-align: middle;\n",
       "    }\n",
       "\n",
       "    .dataframe tbody tr th {\n",
       "        vertical-align: top;\n",
       "    }\n",
       "\n",
       "    .dataframe thead th {\n",
       "        text-align: right;\n",
       "    }\n",
       "</style>\n",
       "<table border=\"1\" class=\"dataframe\">\n",
       "  <thead>\n",
       "    <tr style=\"text-align: right;\">\n",
       "      <th></th>\n",
       "      <th>age</th>\n",
       "      <th>credit</th>\n",
       "    </tr>\n",
       "  </thead>\n",
       "  <tbody>\n",
       "    <tr>\n",
       "      <th>0</th>\n",
       "      <td>36</td>\n",
       "      <td>2.777700</td>\n",
       "    </tr>\n",
       "    <tr>\n",
       "      <th>17</th>\n",
       "      <td>24</td>\n",
       "      <td>0.025074</td>\n",
       "    </tr>\n",
       "    <tr>\n",
       "      <th>15</th>\n",
       "      <td>41</td>\n",
       "      <td>0.071060</td>\n",
       "    </tr>\n",
       "    <tr>\n",
       "      <th>1</th>\n",
       "      <td>27</td>\n",
       "      <td>0.182512</td>\n",
       "    </tr>\n",
       "    <tr>\n",
       "      <th>8</th>\n",
       "      <td>43</td>\n",
       "      <td>1.181952</td>\n",
       "    </tr>\n",
       "  </tbody>\n",
       "</table>\n",
       "</div>"
      ],
      "text/plain": [
       "    age    credit\n",
       "0    36  2.777700\n",
       "17   24  0.025074\n",
       "15   41  0.071060\n",
       "1    27  0.182512\n",
       "8    43  1.181952"
      ]
     },
     "execution_count": 14,
     "metadata": {},
     "output_type": "execute_result"
    }
   ],
   "source": [
    "X_test"
   ]
  },
  {
   "cell_type": "code",
   "execution_count": 12,
   "id": "52ed7292",
   "metadata": {},
   "outputs": [
    {
     "name": "stdout",
     "output_type": "stream",
     "text": [
      "ACCURACY  SCORE basis training data : 0.8\n",
      "ACCURACY  SCORE basis test data: 1.0\n",
      "CONFUSION MATRIX basis training data:\n",
      "[[12  0]\n",
      " [ 3  0]]\n",
      "CONFUSION MATRIX basis testing data:\n",
      "[[5]]\n"
     ]
    }
   ],
   "source": [
    "print('ACCURACY  SCORE basis training data : {0}'.format(accuracy_score(y_train,\n",
    "                                                        logReg.predict(X_train))))\n",
    "print('ACCURACY  SCORE basis test data: {0}'.format(accuracy_score(y_test, y_pred)))\n",
    "\n",
    "print('CONFUSION MATRIX basis training data:')\n",
    "print(confusion_matrix (y_train, logReg.predict(X_train)))\n",
    "\n",
    "print('CONFUSION MATRIX basis testing data:')\n",
    "print(confusion_matrix(y_test, y_pred))\n"
   ]
  },
  {
   "cell_type": "code",
   "execution_count": 15,
   "id": "c8482f07",
   "metadata": {},
   "outputs": [
    {
     "name": "stdout",
     "output_type": "stream",
     "text": [
      "['N']\n"
     ]
    }
   ],
   "source": [
    "# predict y when x1 = 35 and x2 = 2.7777\n",
    "print(logReg.predict([[35, 2.7777]]))"
   ]
  },
  {
   "cell_type": "code",
   "execution_count": null,
   "id": "7fcb06ea",
   "metadata": {},
   "outputs": [],
   "source": [
    "\n",
    "# logReg = LogisticRegression(solver = 'lbfgs')\n",
    "\n",
    "# x = df[['age', 'sleep']]\n",
    "# y = df['infected']    # Classification : infected = 0 or 1\n",
    "\n",
    "# x_train, x_test, y_train, y_test = train_test_split(x, y, random_state = 0)\n",
    "# x_train.head()\n",
    "\n",
    "# logReg.fit(x_train, y_train)\n",
    "\n",
    "# # predict y when x1 = 7.5 and x2 = 0.65\n",
    "# logReg.predict([[7.5,0.65]])  \n",
    "\n",
    "# # predict y when x1 = 10 and x2 = 0.74\n",
    "# print(logReg.predict([[10, 0.74]]))\n",
    "\n",
    "# # probability of getting 0 versus 1\n",
    "# logReg.predict_proba(x_test)\n",
    "\n",
    "# # probability of getting 0 versus 1\n",
    "# logReg.predict_proba([[10, 0.74]])"
   ]
  },
  {
   "cell_type": "markdown",
   "id": "64074011",
   "metadata": {},
   "source": [
    "# Q2a"
   ]
  },
  {
   "cell_type": "code",
   "execution_count": 19,
   "id": "d97e83ab",
   "metadata": {},
   "outputs": [
    {
     "name": "stdout",
     "output_type": "stream",
     "text": [
      "[1 1 0 1 0]\n"
     ]
    }
   ],
   "source": [
    "import numpy as np\n",
    "import matplotlib.pyplot as plt\n",
    "import pandas as pd\n",
    "from sklearn.cluster import KMeans\n",
    "from mpl_toolkits import mplot3d\n",
    "\n",
    "dataset = pd.read_csv('SampleK-Means.csv')\n",
    "x = dataset.iloc[:, :].values\n",
    "\n",
    "# apply kmeans to the dataset\n",
    "kmeans = KMeans(n_clusters = 2)\n",
    "clusters = kmeans.fit_predict(x)\n",
    "print(clusters)"
   ]
  },
  {
   "cell_type": "code",
   "execution_count": 21,
   "id": "8aa4cd58",
   "metadata": {},
   "outputs": [
    {
     "data": {
      "image/png": "[encoded data removed]",
      "text/plain": [
       "<Figure size 432x288 with 1 Axes>"
      ]
     },
     "metadata": {
      "needs_background": "light"
     },
     "output_type": "display_data"
    }
   ],
   "source": [
    "# plot clustered data\n",
    "for i in np.unique(clusters):\n",
    "    plt.scatter(x=x[clusters==i,0], y=x[clusters==i,1],\n",
    "                label='Cluster ' + str(i + 1))\n",
    "\n",
    "\n"
   ]
  },
  {
   "cell_type": "code",
   "execution_count": 22,
   "id": "3a3fcba2",
   "metadata": {},
   "outputs": [
    {
     "data": {
      "text/plain": [
       "<matplotlib.collections.PathCollection at 0x19ed3f18f10>"
      ]
     },
     "execution_count": 22,
     "metadata": {},
     "output_type": "execute_result"
    },
    {
     "data": {
      "image/png": "[encoded data removed]",
      "text/plain": [
       "<Figure size 432x288 with 1 Axes>"
      ]
     },
     "metadata": {
      "needs_background": "light"
     },
     "output_type": "display_data"
    }
   ],
   "source": [
    "# plotting the centroids of the clusters\n",
    "plt.scatter(kmeans.cluster_centers_[:, 0], \n",
    "            kmeans.cluster_centers_[:,1],\n",
    "            s=100, c='violet', label='Centroids')"
   ]
  },
  {
   "cell_type": "code",
   "execution_count": 24,
   "id": "55ab4a33",
   "metadata": {},
   "outputs": [
    {
     "name": "stderr",
     "output_type": "stream",
     "text": [
      "No handles with labels found to put in legend.\n"
     ]
    },
    {
     "data": {
      "image/png": "[encoded data removed]",
      "text/plain": [
       "<Figure size 432x288 with 1 Axes>"
      ]
     },
     "metadata": {
      "needs_background": "light"
     },
     "output_type": "display_data"
    }
   ],
   "source": [
    "plt.title('K-Means Clustering')\n",
    "plt.xlabel(dataset.columns[0])\n",
    "plt.ylabel(dataset.columns[1])\n",
    "plt.legend()\n",
    "plt.show()"
   ]
  },
  {
   "cell_type": "code",
   "execution_count": 25,
   "id": "db4450f7",
   "metadata": {},
   "outputs": [
    {
     "name": "stdout",
     "output_type": "stream",
     "text": [
      "centers =  [[13.5        28.5       ]\n",
      " [11.66666667  5.        ]]\n",
      "centers =  [13.5        11.66666667]\n"
     ]
    },
    {
     "data": {
      "image/png": "[encoded data removed]",
      "text/plain": [
       "<Figure size 504x504 with 1 Axes>"
      ]
     },
     "metadata": {
      "needs_background": "light"
     },
     "output_type": "display_data"
    }
   ],
   "source": [
    "# 3d plot\n",
    "fig = plt.figure(figsize=(7, 7))\n",
    "ax = plt.axes(projection='3d')\n",
    "\n",
    "for i in np.unique(clusters):\n",
    "    ax.scatter3D(xs=x[clusters==i,0],\n",
    "             ys=x[clusters==i,1],\n",
    "              label='Cluster ' + str(i + 1))\n",
    "\n",
    "print('centers = ', kmeans.cluster_centers_)\n",
    "print('centers = ', kmeans.cluster_centers_[:,0])\n"
   ]
  },
  {
   "cell_type": "code",
   "execution_count": 30,
   "id": "bdc48b1c",
   "metadata": {},
   "outputs": [
    {
     "name": "stderr",
     "output_type": "stream",
     "text": [
      "No handles with labels found to put in legend.\n"
     ]
    },
    {
     "data": {
      "image/png": "[encoded data removed]",
      "text/plain": [
       "<Figure size 432x288 with 1 Axes>"
      ]
     },
     "metadata": {
      "needs_background": "light"
     },
     "output_type": "display_data"
    }
   ],
   "source": [
    "# plotting the centroids of the clusters\n",
    "ax.scatter3D(xs=kmeans.cluster_centers_[:, 0], \n",
    "            ys=kmeans.cluster_centers_[:,1],\n",
    "             s=100, c='violet', label='Centroids')\n",
    "plt.title('K-Means Clustering')\n",
    "ax.set_xlabel(dataset.columns[0])\n",
    "ax.set_ylabel(dataset.columns[1])\n",
    "plt.legend()\n",
    "plt.show()\n",
    "\n"
   ]
  },
  {
   "cell_type": "code",
   "execution_count": 36,
   "id": "129edc7d",
   "metadata": {},
   "outputs": [
    {
     "name": "stderr",
     "output_type": "stream",
     "text": [
      "C:\\python\\envs\\pythonEx\\lib\\site-packages\\sklearn\\cluster\\_kmeans.py:881: UserWarning: KMeans is known to have a memory leak on Windows with MKL, when there are less chunks than available threads. You can avoid it by setting the environment variable OMP_NUM_THREADS=1.\n",
      "  warnings.warn(\n"
     ]
    },
    {
     "data": {
      "image/png": "[encoded data removed]",
      "text/plain": [
       "<Figure size 432x288 with 1 Axes>"
      ]
     },
     "metadata": {
      "needs_background": "light"
     },
     "output_type": "display_data"
    }
   ],
   "source": [
    "# part 2: Find the optimum number of clusters for k-means\n",
    "# using within-cluster sum of squares (wcss)\n",
    "wcss = []\n",
    "\n",
    "# trying kmeans for k=1 to k=3\n",
    "for i in range(1, 4):\n",
    "    kmeans = KMeans(n_clusters=i, init='k-means++')\n",
    "    kmeans.fit(X=x)\n",
    "    wcss.append(kmeans.inertia_)\n",
    "\n",
    "# plotting the results onto a line graph, allowing us to observe 'The elbow'\n",
    "plt.plot(range(1, 4), wcss)\n",
    "plt.title('The elbow method')\n",
    "plt.xlabel('Number of clusters')\n",
    "plt.ylabel('WCSS')  # within cluster sum of squares\n",
    "plt.show()"
   ]
  },
  {
   "cell_type": "markdown",
   "id": "24d97032",
   "metadata": {},
   "source": [
    "# Q3a"
   ]
  },
  {
   "cell_type": "code",
   "execution_count": 48,
   "id": "c4820f39",
   "metadata": {},
   "outputs": [],
   "source": [
    "import string\n",
    "import pandas as pd\n",
    "import nltk\n",
    "from nltk.corpus import stopwords\n",
    "from nltk.stem import WordNetLemmatizer\n",
    "from sklearn.feature_extraction.text import CountVectorizer\n",
    "from sklearn.feature_extraction.text import TfidfVectorizer\n",
    "\n",
    "\n",
    "#nltk.download('stopwords') # remove it in your system\n",
    "#nltk.download('wordnet') # ditto above\n"
   ]
  },
  {
   "cell_type": "code",
   "execution_count": 77,
   "id": "c3775467",
   "metadata": {},
   "outputs": [],
   "source": [
    "lemmatizer = WordNetLemmatizer()\n",
    "stop_words = stopwords.words ('english')\n",
    "\n",
    "docs= [\n",
    "        'Life is the sum of our choices.',\n",
    "        'You attract into your life that which you are.',\n",
    "        'Dont be afraid your life will end, be afraid that it will never begin.']\n"
   ]
  },
  {
   "cell_type": "code",
   "execution_count": 83,
   "id": "8ea4a10f",
   "metadata": {},
   "outputs": [
    {
     "name": "stdout",
     "output_type": "stream",
     "text": [
      "['life sum choices', 'attract life', 'dont afraid life end afraid never begin']\n"
     ]
    }
   ],
   "source": [
    "# data cleansing\n",
    "docs_clean = []\n",
    "punc = str.maketrans('','', string.punctuation)\n",
    "for doc in docs:\n",
    "    doc_no_punc = doc.translate(punc)\n",
    "    words = doc_no_punc. lower().split()\n",
    "    words = [lemmatizer.lemmatize (word, 'v')\n",
    "            for word in words if word not in stop_words]\n",
    "    docs_clean.append(' '.join(words))\n",
    "print(docs_clean)"
   ]
  },
  {
   "cell_type": "code",
   "execution_count": 84,
   "id": "2682c1b4",
   "metadata": {},
   "outputs": [
    {
     "name": "stdout",
     "output_type": "stream",
     "text": [
      "[[0.         0.         0.         0.65249088 0.         0.\n",
      "  0.38537163 0.         0.65249088]\n",
      " [0.         0.861037   0.         0.         0.         0.\n",
      "  0.50854232 0.         0.        ]\n",
      " [0.69217714 0.         0.34608857 0.         0.34608857 0.34608857\n",
      "  0.20440549 0.34608857 0.        ]]\n",
      "        afraid   attract     begin   choices      dont       end      life  \\\n",
      "doc0  0.000000  0.000000  0.000000  0.652491  0.000000  0.000000  0.385372   \n",
      "doc1  0.000000  0.861037  0.000000  0.000000  0.000000  0.000000  0.508542   \n",
      "doc2  0.692177  0.000000  0.346089  0.000000  0.346089  0.346089  0.204405   \n",
      "\n",
      "         never       sum  \n",
      "doc0  0.000000  0.652491  \n",
      "doc1  0.000000  0.000000  \n",
      "doc2  0.346089  0.000000  \n"
     ]
    }
   ],
   "source": [
    "\n",
    "tfidf_vec = TfidfVectorizer(analyzer='word')\n",
    "tfidf_wm = tfidf_vec.fit_transform(docs_clean).toarray()\n",
    "print(tfidf_wm)\n",
    "\n",
    "df_index = ['doc'+str(i) for i in range(len(docs))]\n",
    "#print(df_index)\n",
    "\n",
    "df_columns = tfidf_vec.get_feature_names()\n",
    "#print(df_columns)\n",
    "\n",
    "tfidf_df = pd.DataFrame(data=tfidf_wm, index=df_index, columns=df_columns)\n",
    "print(tfidf_df)"
   ]
  },
  {
   "cell_type": "code",
   "execution_count": 80,
   "id": "065a0838",
   "metadata": {},
   "outputs": [
    {
     "name": "stdout",
     "output_type": "stream",
     "text": [
      "      afraid  attract  begin  choices  dont  end  life  never  sum\n",
      "doc0       0        0      0        1     0    0     1      0    1\n",
      "doc1       0        1      0        0     0    0     1      0    0\n",
      "doc2       2        0      1        0     1    1     1      1    0\n"
     ]
    }
   ],
   "source": [
    "bow = CountVectorizer()\n",
    "feature_vectors = bow.fit_transform(docs_clean).toarray()\n",
    "vocab = bow.get_feature_names()\n",
    "\n",
    "df = pd.DataFrame(data=feature_vectors,index=df_index,columns=vocab)\n",
    "print(df)\n"
   ]
  },
  {
   "cell_type": "markdown",
   "id": "4226475a",
   "metadata": {},
   "source": [
    "# Q2"
   ]
  },
  {
   "cell_type": "code",
   "execution_count": 89,
   "id": "ff5c748a",
   "metadata": {},
   "outputs": [
    {
     "name": "stdout",
     "output_type": "stream",
     "text": [
      "['life', 'life', 'afraid life afraid']\n"
     ]
    }
   ],
   "source": [
    "# data cleansing\n",
    "list1=['life','afraid']\n",
    "docs_clean = []\n",
    "punc = str.maketrans('','', string.punctuation)\n",
    "for doc in docs:\n",
    "    doc_no_punc = doc.translate(punc)\n",
    "    words = doc_no_punc. lower().split()\n",
    "    words = [lemmatizer.lemmatize (word, 'v')\n",
    "            for word in words if word not in stop_words]\n",
    "    words1 = [lemmatizer.lemmatize (word, 'v')\n",
    "            for word in words if word in list1]\n",
    "    docs_clean.append(' '.join(words1))\n",
    "\n",
    "print(docs_clean)"
   ]
  },
  {
   "cell_type": "code",
   "execution_count": 92,
   "id": "623e8e4e",
   "metadata": {},
   "outputs": [
    {
     "name": "stdout",
     "output_type": "stream",
     "text": [
      "          life    afraid\n",
      "doc0  0.000000  1.000000\n",
      "doc1  0.000000  1.000000\n",
      "doc2  0.959056  0.283217\n"
     ]
    }
   ],
   "source": [
    "\n",
    "tfidf_vec = TfidfVectorizer(analyzer='word')\n",
    "tfidf_wm = tfidf_vec.fit_transform(docs_clean).toarray()\n",
    "#print(tfidf_wm)\n",
    "\n",
    "df_index1 = ['doc'+str(i) for i in range(len(docs))]\n",
    "#print(df_index1)\n",
    "\n",
    "df_columns1 = ['life','afraid']\n",
    "#print(df_columns1)\n",
    "\n",
    "tfidf_df1 = pd.DataFrame(data=tfidf_wm, index=df_index1, columns=df_columns1)\n",
    "print(tfidf_df1)"
   ]
  },
  {
   "cell_type": "code",
   "execution_count": null,
   "id": "dd1652b5",
   "metadata": {},
   "outputs": [],
   "source": []
  }
 ],
 "metadata": {
  "kernelspec": {
   "display_name": "Python 3",
   "language": "python",
   "name": "python3"
  },
  "language_info": {
   "codemirror_mode": {
    "name": "ipython",
    "version": 3
   },
   "file_extension": ".py",
   "mimetype": "text/x-python",
   "name": "python",
   "nbconvert_exporter": "python",
   "pygments_lexer": "ipython3",
   "version": "3.8.10"
  }
 },
 "nbformat": 4,
 "nbformat_minor": 5
}
