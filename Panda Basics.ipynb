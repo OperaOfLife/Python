{
 "cells": [
  {
   "cell_type": "markdown",
   "id": "a9a92c66",
   "metadata": {},
   "source": [
    "# Basics"
   ]
  },
  {
   "cell_type": "code",
   "execution_count": null,
   "id": "65d613f5",
   "metadata": {
    "scrolled": false
   },
   "outputs": [],
   "source": [
    "import numpy as np\n",
    "import pandas as pd\n",
    "\n",
    "# A series is a one-dimensional array.  It is possible to change the value but not the size of the series\n",
    "series1 = pd.Series([10,20,30])\n",
    "print(series1)  # output: first column - indexes of the elements\n",
    "                #         second column - the elements\n",
    "\n",
    "names = np.array(['Esther','Tin','Nicholas','Michael'])\n",
    "s2 = pd.Series(names)\n",
    "print(s2)\n",
    "\n",
    "\n",
    "    \n",
    "# Dataframe resembles a table\n",
    "df = pd.DataFrame ({\n",
    "    \"Name\": ['Esther','Tin','Nicholas','Michael'],\n",
    "    \"Age\" : [21,25, 26, 28],\n",
    "    \"PhoneNumber\" : ['65160001', '65160002', '65160003', '65160004']\n",
    "})\n",
    "print(df)\n",
    "\n",
    "numList =[1,2,3,4]\n",
    "df = pd.DataFrame(numList)\n",
    "print(df)\n",
    "print(df.dtypes)\n",
    "\n",
    "names =  [['Derek', 7000], ['Wendy', 3000], ['Nicholas', 6000], ['Michael', 8000]]\n",
    "    \n",
    "df = pd.DataFrame(names, columns =['Name', 'Salary'], dtype=float)    # set the datatype (Age) to float\n",
    "print(df)\n",
    "print(df.dtypes)\n",
    "df.describe()\n",
    "\n",
    "df.to_csv('Person.csv', index=False, header=True)   # write file with header\n",
    "\n",
    "Location = \"Person.csv\"\n",
    "df = pd.read_csv(Location, header=None)  # read file without header\n",
    "df\n",
    "\n",
    "df = pd.read_csv(Location, names= ['Names', 'Salary'])   # read file and specify column title\n",
    "df\n",
    "\n",
    "max_value = df.Salary.max()            # get max value for the column\n",
    "\n",
    "df[\"Names\"] [df.Salary == max_value]\n",
    "\n",
    "df[\"Salary\"]\n",
    "\n",
    "df[\"Salary\"].mean()  # get average\n",
    "\n",
    "df['Salary'].max() #check max value\n",
    "\n",
    "Sorted = df.sort_values(['Salary'], ascending = False)\n",
    "Sorted.head(2)  # top sa salaried person"
   ]
  },
  {
   "cell_type": "code",
   "execution_count": null,
   "id": "37f059b9",
   "metadata": {},
   "outputs": [],
   "source": [
    "df[\"Salary\"]\n",
    "#f = float(s)\n",
    "\n",
    "#df[\"Salary\"].mean()  # get average\n"
   ]
  },
  {
   "cell_type": "code",
   "execution_count": null,
   "id": "e856ff75",
   "metadata": {},
   "outputs": [],
   "source": [
    "df[\"Salary\"].mean()  # get average"
   ]
  },
  {
   "cell_type": "code",
   "execution_count": null,
   "id": "633f57e9",
   "metadata": {},
   "outputs": [],
   "source": [
    "df.Salary.dtype"
   ]
  },
  {
   "cell_type": "code",
   "execution_count": null,
   "id": "5186bce8",
   "metadata": {},
   "outputs": [],
   "source": [
    "names =  [['Derek', 7000], ['Wendy', 3000], ['Nicholas', 6000], ['Michael', 8000]]\n",
    "    \n",
    "df = pd.DataFrame(names, columns =['Name', 'Salary'], dtype=float)    # set the datatype (Age) to float\n",
    "print(df)\n",
    "print(df.dtypes)\n",
    "df.describe()"
   ]
  },
  {
   "cell_type": "code",
   "execution_count": null,
   "id": "44a1def5",
   "metadata": {},
   "outputs": [],
   "source": [
    "df[\"Salary\"].mean() \n"
   ]
  },
  {
   "cell_type": "code",
   "execution_count": null,
   "id": "09774cb6",
   "metadata": {},
   "outputs": [],
   "source": []
  }
 ],
 "metadata": {
  "kernelspec": {
   "display_name": "Python 3",
   "language": "python",
   "name": "python3"
  },
  "language_info": {
   "codemirror_mode": {
    "name": "ipython",
    "version": 3
   },
   "file_extension": ".py",
   "mimetype": "text/x-python",
   "name": "python",
   "nbconvert_exporter": "python",
   "pygments_lexer": "ipython3",
   "version": "3.8.10"
  }
 },
 "nbformat": 4,
 "nbformat_minor": 5
}
