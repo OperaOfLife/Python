{
 "cells": [
  {
   "cell_type": "markdown",
   "metadata": {},
   "source": [
    "# Web Scraping Example"
   ]
  },
  {
   "cell_type": "code",
   "execution_count": 7,
   "metadata": {},
   "outputs": [],
   "source": [
    "from urllib.request import urlopen\n",
    "import numpy as np"
   ]
  },
  {
   "cell_type": "code",
   "execution_count": 8,
   "metadata": {},
   "outputs": [],
   "source": [
    "url = \"https://www.iss.nus.edu.sg/\""
   ]
  },
  {
   "cell_type": "code",
   "execution_count": 9,
   "metadata": {},
   "outputs": [],
   "source": [
    "# open the web page\n",
    "# urlopen() retuns an HTTPResponse object\n",
    "page = urlopen(url)"
   ]
  },
  {
   "cell_type": "code",
   "execution_count": 10,
   "metadata": {},
   "outputs": [
    {
     "data": {
      "text/plain": [
       "<http.client.HTTPResponse at 0x2a512411490>"
      ]
     },
     "execution_count": 10,
     "metadata": {},
     "output_type": "execute_result"
    }
   ],
   "source": [
    "page"
   ]
  },
  {
   "cell_type": "code",
   "execution_count": 5,
   "metadata": {},
   "outputs": [
    {
     "data": {
      "text/plain": [
       "b'<html>\\r\\n<head>\\r\\n<META NAME=\"robots\" CONTENT=\"noindex,nofollow\">\\r\\n<script src=\"/_Incapsula_Resource?SWJIYLWA=5074a744e2e3d891814e9a2dace20bd4,719d34d31c8e3a6e6fffd425f7e032f3\">\\r\\n</script>\\r\\n<body>\\r\\n</body></html>\\r\\n'"
      ]
     },
     "execution_count": 5,
     "metadata": {},
     "output_type": "execute_result"
    }
   ],
   "source": [
    "page.read()"
   ]
  },
  {
   "cell_type": "markdown",
   "metadata": {},
   "source": [
    "Processing HTML Page"
   ]
  },
  {
   "cell_type": "code",
   "execution_count": 12,
   "metadata": {},
   "outputs": [
    {
     "ename": "ModuleNotFoundError",
     "evalue": "No module named 'bs4'",
     "output_type": "error",
     "traceback": [
      "\u001b[1;31m---------------------------------------------------------------------------\u001b[0m",
      "\u001b[1;31mModuleNotFoundError\u001b[0m                       Traceback (most recent call last)",
      "\u001b[1;32m<ipython-input-12-582737dc5a4d>\u001b[0m in \u001b[0;36m<module>\u001b[1;34m\u001b[0m\n\u001b[0;32m      5\u001b[0m \u001b[1;31m#    pip install beautifulsoup4\u001b[0m\u001b[1;33m\u001b[0m\u001b[1;33m\u001b[0m\u001b[1;33m\u001b[0m\u001b[0m\n\u001b[0;32m      6\u001b[0m \u001b[1;33m\u001b[0m\u001b[0m\n\u001b[1;32m----> 7\u001b[1;33m \u001b[1;32mfrom\u001b[0m \u001b[0mbs4\u001b[0m \u001b[1;32mimport\u001b[0m \u001b[0mBeautifulSoup\u001b[0m\u001b[1;33m\u001b[0m\u001b[1;33m\u001b[0m\u001b[0m\n\u001b[0m\u001b[0;32m      8\u001b[0m \u001b[1;32mfrom\u001b[0m \u001b[0murllib\u001b[0m\u001b[1;33m.\u001b[0m\u001b[0mrequest\u001b[0m \u001b[1;32mimport\u001b[0m \u001b[0murlopen\u001b[0m\u001b[1;33m\u001b[0m\u001b[1;33m\u001b[0m\u001b[0m\n",
      "\u001b[1;31mModuleNotFoundError\u001b[0m: No module named 'bs4'"
     ]
    }
   ],
   "source": [
    "# Beautifile soup is used to pull data out of HTML files\n",
    "#           https://www.crummy.com/software/BeautifulSoup/bs4/doc/\n",
    "\n",
    "# if you have not installed, in the package\n",
    "#    pip install beautifulsoup4\n",
    "\n",
    "from bs4 import BeautifulSoup\n",
    "from urllib.request import urlopen"
   ]
  },
  {
   "cell_type": "code",
   "execution_count": null,
   "metadata": {},
   "outputs": [],
   "source": [
    "# extract the HTML from the page\n",
    "html_bytes = page.read()  #returns a sequence of bytes\n",
    "html = html_bytes.decode(\"utf-8\")  # decodes the bytes to a string\n",
    "soup = BeautifulSoup(html, \"html.parser\")"
   ]
  },
  {
   "cell_type": "code",
   "execution_count": null,
   "metadata": {
    "scrolled": true
   },
   "outputs": [],
   "source": [
    "print(soup.prettify)"
   ]
  },
  {
   "cell_type": "markdown",
   "metadata": {},
   "source": [
    "Load a smaller html page for this demonstration"
   ]
  },
  {
   "cell_type": "code",
   "execution_count": null,
   "metadata": {},
   "outputs": [],
   "source": [
    "import codecs\n",
    "file = codecs.open(\"data/TimeTable.html\", \"r\", \"utf-8\")\n",
    "print(file)\n",
    "soup = BeautifulSoup(file, \"html.parser\")\n",
    "\n",
    "print(soup.prettify)"
   ]
  },
  {
   "cell_type": "code",
   "execution_count": null,
   "metadata": {},
   "outputs": [],
   "source": [
    "soup.title"
   ]
  },
  {
   "cell_type": "code",
   "execution_count": null,
   "metadata": {},
   "outputs": [],
   "source": [
    "soup.title.name"
   ]
  },
  {
   "cell_type": "code",
   "execution_count": null,
   "metadata": {},
   "outputs": [],
   "source": [
    "soup.title.string"
   ]
  },
  {
   "cell_type": "code",
   "execution_count": null,
   "metadata": {},
   "outputs": [],
   "source": [
    "soup.h3"
   ]
  },
  {
   "cell_type": "code",
   "execution_count": null,
   "metadata": {},
   "outputs": [],
   "source": [
    "soup.find_all('td')"
   ]
  },
  {
   "cell_type": "code",
   "execution_count": null,
   "metadata": {},
   "outputs": [],
   "source": [
    "soup.td"
   ]
  },
  {
   "cell_type": "code",
   "execution_count": null,
   "metadata": {},
   "outputs": [],
   "source": [
    "soup.table"
   ]
  },
  {
   "cell_type": "code",
   "execution_count": null,
   "metadata": {},
   "outputs": [],
   "source": [
    "data = []\n",
    "table = soup.find('table', attrs={'class':'student_time_table'})\n",
    "rows = table.find_all('tr')\n",
    "for x in range (1, len(rows)):\n",
    "    cols = rows[x].find_all('td')        \n",
    "    cols = [ele.text.strip() for ele in cols]       \n",
    "    data.append([ele for ele in cols]) "
   ]
  },
  {
   "cell_type": "code",
   "execution_count": null,
   "metadata": {},
   "outputs": [],
   "source": [
    "# display data\n",
    "data"
   ]
  },
  {
   "cell_type": "markdown",
   "metadata": {},
   "source": [
    "Put the data into a dataframe"
   ]
  },
  {
   "cell_type": "code",
   "execution_count": null,
   "metadata": {},
   "outputs": [],
   "source": [
    "import pandas as pd\n",
    "df = pd.DataFrame(data)\n",
    "df"
   ]
  },
  {
   "cell_type": "markdown",
   "metadata": {},
   "source": [
    "# Regular Expression\n",
    "Sometimes you may need to further process the html data.  Regular Expression might be useful."
   ]
  },
  {
   "cell_type": "markdown",
   "metadata": {},
   "source": [
    "A regular expression is a sequence of characters to defines a search pattern.\n",
    "Python re module provides features to search a string with a pattern (https://docs.python.org/3/library/re.html#regular-expression-syntax)"
   ]
  },
  {
   "cell_type": "code",
   "execution_count": null,
   "metadata": {},
   "outputs": [],
   "source": [
    "import re"
   ]
  },
  {
   "cell_type": "raw",
   "metadata": {},
   "source": [
    "To learn more about regular expresssion: https://regexone.com/   \n",
    "Python regular expression : https://docs.python.org/3/library/re.html"
   ]
  },
  {
   "cell_type": "raw",
   "metadata": {},
   "source": [
    "Explore some methods useful extract data from html "
   ]
  },
  {
   "cell_type": "raw",
   "metadata": {},
   "source": [
    "\".\" - matches any character except a newline\n",
    "\"*\" - to match 0 or more repetitions of the preceding RE, as many repetitions as are possible. \n",
    "      ab* will match ‘a’, ‘ab’, or ‘a’ followed by any number of ‘b’s.\n",
    "\n",
    "search() Scan through a string, looking for any location where this RE matches. Find the first match.\n",
    "group - return the string matched by the RE"
   ]
  },
  {
   "cell_type": "code",
   "execution_count": null,
   "metadata": {},
   "outputs": [],
   "source": [
    "# any word starts with 'a', followed by 0 to any instances of 'b', ends with a 'c'\n",
    "re.search('ab*c', 'abbcc ac a ab').group()"
   ]
  },
  {
   "cell_type": "code",
   "execution_count": null,
   "metadata": {},
   "outputs": [],
   "source": [
    "# findall() Find all substrings where the RE matches, and returns them as a list.\n",
    "re.findall('ab*c', 'abbcc ac a ab')"
   ]
  },
  {
   "cell_type": "code",
   "execution_count": null,
   "metadata": {},
   "outputs": [],
   "source": [
    "res= re.search(\"<o.*?>\", \" <fox> <jumps> <over>  <dog> <ox>\") \n",
    "result = res.group()\n",
    "print(result)"
   ]
  },
  {
   "cell_type": "code",
   "execution_count": null,
   "metadata": {},
   "outputs": [],
   "source": [
    "res= re.findall(\"<o.*?>\", \"<the> <quick> <brown> <fox> <jumps> <over> <the> <lazy> <dog> <ox>\") \n",
    "result = res\n",
    "print(result)"
   ]
  },
  {
   "cell_type": "code",
   "execution_count": null,
   "metadata": {},
   "outputs": [],
   "source": [
    "# group - return the string matched by the RE\n",
    "# group extraction (https://developers.google.com/edu/python/regular-expressions)\n",
    "# group(0), group(1) - logical group within the search results\n",
    "\n",
    "# search a pattern enclosed by \"()\"\n",
    "module_code = re.search('\\((.*?)\\)', \"OOPCS(4010)\").group()\n",
    "print(module_code)\n",
    "\n",
    "module_code = re.search('\\((.*?)\\)', \"OOPCS(4010)\").group(1)\n",
    "#year = re.search('\\((.*?)\\)', cols[1]).group(1)\n",
    "print(module_code)"
   ]
  },
  {
   "cell_type": "code",
   "execution_count": null,
   "metadata": {},
   "outputs": [],
   "source": [
    "# RE.sub() : replace with a string\n",
    "\n",
    "# remove \"(1984)\"\n",
    "re.sub('\\((.*?)\\)', \"\",'OOPCS(4010)')\n"
   ]
  },
  {
   "cell_type": "code",
   "execution_count": null,
   "metadata": {},
   "outputs": [],
   "source": []
  },
  {
   "cell_type": "raw",
   "metadata": {},
   "source": [
    "Question - Access the data in data/TimeTable.html. Extract the data such as the module code, lecturer name and put into an array or dataframe.  \n",
    "For example, the output of an array may looks like the following:\n",
    "[['1', 'FOPCS', 'Liu Fan', '2-1'],\n",
    " ['2', 'OOPCS', 'Tin', '3-1'],\n",
    " ['3', 'OOAD', 'Esther', '3-5']]"
   ]
  },
  {
   "cell_type": "code",
   "execution_count": null,
   "metadata": {},
   "outputs": [],
   "source": [
    "#Possible Answer\n",
    "data = []\n",
    "table = soup.find('table', attrs={'class':'student_time_table'})\n",
    "#table_body = table.find('tbody')\n",
    "#rows = table_body.find_all('tr')\n",
    "rows = table.find_all('tr')\n",
    "for x in range (1, len(rows)):\n",
    "    cols = rows[x].find_all('td')        \n",
    "    cols = [ele.text.strip() for ele in cols]    \n",
    "    year = re.search('\\((.*?)\\)', cols[1]).group(1)\n",
    "    cols[1] = re.sub('\\((.*?)\\)', \"\",cols[1])\n",
    "    data.append([ele for ele in cols]) \n",
    "    \n",
    "# display the data"
   ]
  },
  {
   "cell_type": "code",
   "execution_count": null,
   "metadata": {},
   "outputs": [],
   "source": []
  }
 ],
 "metadata": {
  "kernelspec": {
   "display_name": "Python 3",
   "language": "python",
   "name": "python3"
  },
  "language_info": {
   "codemirror_mode": {
    "name": "ipython",
    "version": 3
   },
   "file_extension": ".py",
   "mimetype": "text/x-python",
   "name": "python",
   "nbconvert_exporter": "python",
   "pygments_lexer": "ipython3",
   "version": "3.9.4"
  }
 },
 "nbformat": 4,
 "nbformat_minor": 2
}
